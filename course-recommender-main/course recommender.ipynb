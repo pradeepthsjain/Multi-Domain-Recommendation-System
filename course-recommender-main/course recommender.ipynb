{
 "cells": [
  {
   "cell_type": "markdown",
   "id": "7e9c8109",
   "metadata": {},
   "source": [
    "# Importing Libraries and Data collection"
   ]
  },
  {
   "cell_type": "code",
   "execution_count": 1,
   "id": "6d57d1cb",
   "metadata": {},
   "outputs": [],
   "source": [
    "import pandas as pd"
   ]
  },
  {
   "cell_type": "code",
   "execution_count": 2,
   "id": "43010934",
   "metadata": {},
   "outputs": [],
   "source": [
    "df_org=pd.read_csv('Coursera.csv')"
   ]
  },
  {
   "cell_type": "code",
   "execution_count": 3,
   "id": "4b2c6540",
   "metadata": {
    "scrolled": true
   },
   "outputs": [
    {
     "data": {
      "text/html": [
       "<div>\n",
       "<style scoped>\n",
       "    .dataframe tbody tr th:only-of-type {\n",
       "        vertical-align: middle;\n",
       "    }\n",
       "\n",
       "    .dataframe tbody tr th {\n",
       "        vertical-align: top;\n",
       "    }\n",
       "\n",
       "    .dataframe thead th {\n",
       "        text-align: right;\n",
       "    }\n",
       "</style>\n",
       "<table border=\"1\" class=\"dataframe\">\n",
       "  <thead>\n",
       "    <tr style=\"text-align: right;\">\n",
       "      <th></th>\n",
       "      <th>Course Name</th>\n",
       "      <th>University</th>\n",
       "      <th>Difficulty Level</th>\n",
       "      <th>Course Rating</th>\n",
       "      <th>Course URL</th>\n",
       "      <th>Course Description</th>\n",
       "      <th>Skills</th>\n",
       "    </tr>\n",
       "  </thead>\n",
       "  <tbody>\n",
       "    <tr>\n",
       "      <th>0</th>\n",
       "      <td>Write A Feature Length Screenplay For Film Or ...</td>\n",
       "      <td>Michigan State University</td>\n",
       "      <td>Beginner</td>\n",
       "      <td>4.8</td>\n",
       "      <td>https://www.coursera.org/learn/write-a-feature...</td>\n",
       "      <td>Write a Full Length Feature Film Script  In th...</td>\n",
       "      <td>Drama  Comedy  peering  screenwriting  film  D...</td>\n",
       "    </tr>\n",
       "    <tr>\n",
       "      <th>1</th>\n",
       "      <td>Business Strategy: Business Model Canvas Analy...</td>\n",
       "      <td>Coursera Project Network</td>\n",
       "      <td>Beginner</td>\n",
       "      <td>4.8</td>\n",
       "      <td>https://www.coursera.org/learn/canvas-analysis...</td>\n",
       "      <td>By the end of this guided project, you will be...</td>\n",
       "      <td>Finance  business plan  persona (user experien...</td>\n",
       "    </tr>\n",
       "    <tr>\n",
       "      <th>2</th>\n",
       "      <td>Silicon Thin Film Solar Cells</td>\n",
       "      <td>cole Polytechnique</td>\n",
       "      <td>Advanced</td>\n",
       "      <td>4.1</td>\n",
       "      <td>https://www.coursera.org/learn/silicon-thin-fi...</td>\n",
       "      <td>This course consists of a general presentation...</td>\n",
       "      <td>chemistry  physics  Solar Energy  film  lambda...</td>\n",
       "    </tr>\n",
       "    <tr>\n",
       "      <th>3</th>\n",
       "      <td>Finance for Managers</td>\n",
       "      <td>IESE Business School</td>\n",
       "      <td>Intermediate</td>\n",
       "      <td>4.8</td>\n",
       "      <td>https://www.coursera.org/learn/operational-fin...</td>\n",
       "      <td>When it comes to numbers, there is always more...</td>\n",
       "      <td>accounts receivable  dupont analysis  analysis...</td>\n",
       "    </tr>\n",
       "    <tr>\n",
       "      <th>4</th>\n",
       "      <td>Retrieve Data using Single-Table SQL Queries</td>\n",
       "      <td>Coursera Project Network</td>\n",
       "      <td>Beginner</td>\n",
       "      <td>4.6</td>\n",
       "      <td>https://www.coursera.org/learn/single-table-sq...</td>\n",
       "      <td>In this course youll learn how to effectively ...</td>\n",
       "      <td>Data Analysis  select (sql)  database manageme...</td>\n",
       "    </tr>\n",
       "  </tbody>\n",
       "</table>\n",
       "</div>"
      ],
      "text/plain": [
       "                                         Course Name  \\\n",
       "0  Write A Feature Length Screenplay For Film Or ...   \n",
       "1  Business Strategy: Business Model Canvas Analy...   \n",
       "2                      Silicon Thin Film Solar Cells   \n",
       "3                               Finance for Managers   \n",
       "4       Retrieve Data using Single-Table SQL Queries   \n",
       "\n",
       "                  University Difficulty Level Course Rating  \\\n",
       "0  Michigan State University         Beginner           4.8   \n",
       "1   Coursera Project Network         Beginner           4.8   \n",
       "2         cole Polytechnique         Advanced           4.1   \n",
       "3       IESE Business School     Intermediate           4.8   \n",
       "4   Coursera Project Network         Beginner           4.6   \n",
       "\n",
       "                                          Course URL  \\\n",
       "0  https://www.coursera.org/learn/write-a-feature...   \n",
       "1  https://www.coursera.org/learn/canvas-analysis...   \n",
       "2  https://www.coursera.org/learn/silicon-thin-fi...   \n",
       "3  https://www.coursera.org/learn/operational-fin...   \n",
       "4  https://www.coursera.org/learn/single-table-sq...   \n",
       "\n",
       "                                  Course Description  \\\n",
       "0  Write a Full Length Feature Film Script  In th...   \n",
       "1  By the end of this guided project, you will be...   \n",
       "2  This course consists of a general presentation...   \n",
       "3  When it comes to numbers, there is always more...   \n",
       "4  In this course youll learn how to effectively ...   \n",
       "\n",
       "                                              Skills  \n",
       "0  Drama  Comedy  peering  screenwriting  film  D...  \n",
       "1  Finance  business plan  persona (user experien...  \n",
       "2  chemistry  physics  Solar Energy  film  lambda...  \n",
       "3  accounts receivable  dupont analysis  analysis...  \n",
       "4  Data Analysis  select (sql)  database manageme...  "
      ]
     },
     "execution_count": 3,
     "metadata": {},
     "output_type": "execute_result"
    }
   ],
   "source": [
    "df_org.head()"
   ]
  },
  {
   "cell_type": "markdown",
   "id": "66a09714",
   "metadata": {},
   "source": [
    "# Exploratory Data Analysis"
   ]
  },
  {
   "cell_type": "code",
   "execution_count": 4,
   "id": "011cf097",
   "metadata": {
    "scrolled": true
   },
   "outputs": [
    {
     "name": "stdout",
     "output_type": "stream",
     "text": [
      "<class 'pandas.core.frame.DataFrame'>\n",
      "RangeIndex: 3522 entries, 0 to 3521\n",
      "Data columns (total 7 columns):\n",
      " #   Column              Non-Null Count  Dtype \n",
      "---  ------              --------------  ----- \n",
      " 0   Course Name         3522 non-null   object\n",
      " 1   University          3522 non-null   object\n",
      " 2   Difficulty Level    3522 non-null   object\n",
      " 3   Course Rating       3522 non-null   object\n",
      " 4   Course URL          3522 non-null   object\n",
      " 5   Course Description  3522 non-null   object\n",
      " 6   Skills              3522 non-null   object\n",
      "dtypes: object(7)\n",
      "memory usage: 192.7+ KB\n"
     ]
    }
   ],
   "source": [
    "df_org.info()"
   ]
  },
  {
   "cell_type": "code",
   "execution_count": 5,
   "id": "8f5cf265",
   "metadata": {
    "scrolled": false
   },
   "outputs": [
    {
     "data": {
      "text/plain": [
       "Course Name           0\n",
       "University            0\n",
       "Difficulty Level      0\n",
       "Course Rating         0\n",
       "Course URL            0\n",
       "Course Description    0\n",
       "Skills                0\n",
       "dtype: int64"
      ]
     },
     "execution_count": 5,
     "metadata": {},
     "output_type": "execute_result"
    }
   ],
   "source": [
    "df_org.isnull().sum()"
   ]
  },
  {
   "cell_type": "code",
   "execution_count": 6,
   "id": "16e4acea",
   "metadata": {},
   "outputs": [],
   "source": [
    "#data set have no misssing values"
   ]
  },
  {
   "cell_type": "markdown",
   "id": "810dc9a6",
   "metadata": {},
   "source": [
    "# Creating the copy of the dataset"
   ]
  },
  {
   "cell_type": "markdown",
   "id": "ad2bb7eb",
   "metadata": {},
   "source": [
    "We create a copy of the data set so that we can use columns useful for recommending the similar courses and and dropping the columns that are not very useful for recommending courses. we keep the original dataset because while recommending the courses we need to print all the columns as our output so that user can see all the information related to recommended courses."
   ]
  },
  {
   "cell_type": "code",
   "execution_count": 7,
   "id": "a88bc5d0",
   "metadata": {},
   "outputs": [],
   "source": [
    "df=df_org.copy()"
   ]
  },
  {
   "cell_type": "code",
   "execution_count": 8,
   "id": "b0f7193b",
   "metadata": {
    "scrolled": false
   },
   "outputs": [
    {
     "data": {
      "text/html": [
       "<div>\n",
       "<style scoped>\n",
       "    .dataframe tbody tr th:only-of-type {\n",
       "        vertical-align: middle;\n",
       "    }\n",
       "\n",
       "    .dataframe tbody tr th {\n",
       "        vertical-align: top;\n",
       "    }\n",
       "\n",
       "    .dataframe thead th {\n",
       "        text-align: right;\n",
       "    }\n",
       "</style>\n",
       "<table border=\"1\" class=\"dataframe\">\n",
       "  <thead>\n",
       "    <tr style=\"text-align: right;\">\n",
       "      <th></th>\n",
       "      <th>Course Name</th>\n",
       "      <th>University</th>\n",
       "      <th>Difficulty Level</th>\n",
       "      <th>Course Rating</th>\n",
       "      <th>Course URL</th>\n",
       "      <th>Course Description</th>\n",
       "      <th>Skills</th>\n",
       "    </tr>\n",
       "  </thead>\n",
       "  <tbody>\n",
       "    <tr>\n",
       "      <th>0</th>\n",
       "      <td>Write A Feature Length Screenplay For Film Or ...</td>\n",
       "      <td>Michigan State University</td>\n",
       "      <td>Beginner</td>\n",
       "      <td>4.8</td>\n",
       "      <td>https://www.coursera.org/learn/write-a-feature...</td>\n",
       "      <td>Write a Full Length Feature Film Script  In th...</td>\n",
       "      <td>Drama  Comedy  peering  screenwriting  film  D...</td>\n",
       "    </tr>\n",
       "    <tr>\n",
       "      <th>1</th>\n",
       "      <td>Business Strategy: Business Model Canvas Analy...</td>\n",
       "      <td>Coursera Project Network</td>\n",
       "      <td>Beginner</td>\n",
       "      <td>4.8</td>\n",
       "      <td>https://www.coursera.org/learn/canvas-analysis...</td>\n",
       "      <td>By the end of this guided project, you will be...</td>\n",
       "      <td>Finance  business plan  persona (user experien...</td>\n",
       "    </tr>\n",
       "    <tr>\n",
       "      <th>2</th>\n",
       "      <td>Silicon Thin Film Solar Cells</td>\n",
       "      <td>cole Polytechnique</td>\n",
       "      <td>Advanced</td>\n",
       "      <td>4.1</td>\n",
       "      <td>https://www.coursera.org/learn/silicon-thin-fi...</td>\n",
       "      <td>This course consists of a general presentation...</td>\n",
       "      <td>chemistry  physics  Solar Energy  film  lambda...</td>\n",
       "    </tr>\n",
       "    <tr>\n",
       "      <th>3</th>\n",
       "      <td>Finance for Managers</td>\n",
       "      <td>IESE Business School</td>\n",
       "      <td>Intermediate</td>\n",
       "      <td>4.8</td>\n",
       "      <td>https://www.coursera.org/learn/operational-fin...</td>\n",
       "      <td>When it comes to numbers, there is always more...</td>\n",
       "      <td>accounts receivable  dupont analysis  analysis...</td>\n",
       "    </tr>\n",
       "    <tr>\n",
       "      <th>4</th>\n",
       "      <td>Retrieve Data using Single-Table SQL Queries</td>\n",
       "      <td>Coursera Project Network</td>\n",
       "      <td>Beginner</td>\n",
       "      <td>4.6</td>\n",
       "      <td>https://www.coursera.org/learn/single-table-sq...</td>\n",
       "      <td>In this course youll learn how to effectively ...</td>\n",
       "      <td>Data Analysis  select (sql)  database manageme...</td>\n",
       "    </tr>\n",
       "    <tr>\n",
       "      <th>...</th>\n",
       "      <td>...</td>\n",
       "      <td>...</td>\n",
       "      <td>...</td>\n",
       "      <td>...</td>\n",
       "      <td>...</td>\n",
       "      <td>...</td>\n",
       "      <td>...</td>\n",
       "    </tr>\n",
       "    <tr>\n",
       "      <th>3517</th>\n",
       "      <td>Capstone: Retrieving, Processing, and Visualiz...</td>\n",
       "      <td>University of Michigan</td>\n",
       "      <td>Beginner</td>\n",
       "      <td>4.6</td>\n",
       "      <td>https://www.coursera.org/learn/python-data-vis...</td>\n",
       "      <td>In the capstone, students will build a series ...</td>\n",
       "      <td>Databases  syntax  analysis  web  Data Visuali...</td>\n",
       "    </tr>\n",
       "    <tr>\n",
       "      <th>3518</th>\n",
       "      <td>Patrick Henry: Forgotten Founder</td>\n",
       "      <td>University of Virginia</td>\n",
       "      <td>Intermediate</td>\n",
       "      <td>4.9</td>\n",
       "      <td>https://www.coursera.org/learn/henry</td>\n",
       "      <td>Give me liberty, or give me death: Remembering...</td>\n",
       "      <td>retirement  Causality  career  history of the ...</td>\n",
       "    </tr>\n",
       "    <tr>\n",
       "      <th>3519</th>\n",
       "      <td>Business intelligence and data analytics: Gene...</td>\n",
       "      <td>Macquarie University</td>\n",
       "      <td>Advanced</td>\n",
       "      <td>4.6</td>\n",
       "      <td>https://www.coursera.org/learn/business-intell...</td>\n",
       "      <td>Megatrends heavily influence todays organisati...</td>\n",
       "      <td>analytics  tableau software  Business Intellig...</td>\n",
       "    </tr>\n",
       "    <tr>\n",
       "      <th>3520</th>\n",
       "      <td>Rigid Body Dynamics</td>\n",
       "      <td>Korea Advanced Institute of Science and Techno...</td>\n",
       "      <td>Beginner</td>\n",
       "      <td>4.6</td>\n",
       "      <td>https://www.coursera.org/learn/rigid-body-dyna...</td>\n",
       "      <td>This course teaches dynamics, one of the basic...</td>\n",
       "      <td>Angular  Mechanical Design  fluid mechanics  F...</td>\n",
       "    </tr>\n",
       "    <tr>\n",
       "      <th>3521</th>\n",
       "      <td>Architecting with Google Kubernetes Engine: Pr...</td>\n",
       "      <td>Google Cloud</td>\n",
       "      <td>Intermediate</td>\n",
       "      <td>4.7</td>\n",
       "      <td>https://www.coursera.org/learn/deploying-secur...</td>\n",
       "      <td>In this course, \"Architecting with Google Kube...</td>\n",
       "      <td>bigtable  bigquery  SQL  Google Cloud Platform...</td>\n",
       "    </tr>\n",
       "  </tbody>\n",
       "</table>\n",
       "<p>3522 rows × 7 columns</p>\n",
       "</div>"
      ],
      "text/plain": [
       "                                            Course Name  \\\n",
       "0     Write A Feature Length Screenplay For Film Or ...   \n",
       "1     Business Strategy: Business Model Canvas Analy...   \n",
       "2                         Silicon Thin Film Solar Cells   \n",
       "3                                  Finance for Managers   \n",
       "4          Retrieve Data using Single-Table SQL Queries   \n",
       "...                                                 ...   \n",
       "3517  Capstone: Retrieving, Processing, and Visualiz...   \n",
       "3518                   Patrick Henry: Forgotten Founder   \n",
       "3519  Business intelligence and data analytics: Gene...   \n",
       "3520                                Rigid Body Dynamics   \n",
       "3521  Architecting with Google Kubernetes Engine: Pr...   \n",
       "\n",
       "                                             University Difficulty Level  \\\n",
       "0                             Michigan State University         Beginner   \n",
       "1                              Coursera Project Network         Beginner   \n",
       "2                                    cole Polytechnique         Advanced   \n",
       "3                                  IESE Business School     Intermediate   \n",
       "4                              Coursera Project Network         Beginner   \n",
       "...                                                 ...              ...   \n",
       "3517                             University of Michigan         Beginner   \n",
       "3518                             University of Virginia     Intermediate   \n",
       "3519                               Macquarie University         Advanced   \n",
       "3520  Korea Advanced Institute of Science and Techno...         Beginner   \n",
       "3521                                       Google Cloud     Intermediate   \n",
       "\n",
       "     Course Rating                                         Course URL  \\\n",
       "0              4.8  https://www.coursera.org/learn/write-a-feature...   \n",
       "1              4.8  https://www.coursera.org/learn/canvas-analysis...   \n",
       "2              4.1  https://www.coursera.org/learn/silicon-thin-fi...   \n",
       "3              4.8  https://www.coursera.org/learn/operational-fin...   \n",
       "4              4.6  https://www.coursera.org/learn/single-table-sq...   \n",
       "...            ...                                                ...   \n",
       "3517           4.6  https://www.coursera.org/learn/python-data-vis...   \n",
       "3518           4.9               https://www.coursera.org/learn/henry   \n",
       "3519           4.6  https://www.coursera.org/learn/business-intell...   \n",
       "3520           4.6  https://www.coursera.org/learn/rigid-body-dyna...   \n",
       "3521           4.7  https://www.coursera.org/learn/deploying-secur...   \n",
       "\n",
       "                                     Course Description  \\\n",
       "0     Write a Full Length Feature Film Script  In th...   \n",
       "1     By the end of this guided project, you will be...   \n",
       "2     This course consists of a general presentation...   \n",
       "3     When it comes to numbers, there is always more...   \n",
       "4     In this course youll learn how to effectively ...   \n",
       "...                                                 ...   \n",
       "3517  In the capstone, students will build a series ...   \n",
       "3518  Give me liberty, or give me death: Remembering...   \n",
       "3519  Megatrends heavily influence todays organisati...   \n",
       "3520  This course teaches dynamics, one of the basic...   \n",
       "3521  In this course, \"Architecting with Google Kube...   \n",
       "\n",
       "                                                 Skills  \n",
       "0     Drama  Comedy  peering  screenwriting  film  D...  \n",
       "1     Finance  business plan  persona (user experien...  \n",
       "2     chemistry  physics  Solar Energy  film  lambda...  \n",
       "3     accounts receivable  dupont analysis  analysis...  \n",
       "4     Data Analysis  select (sql)  database manageme...  \n",
       "...                                                 ...  \n",
       "3517  Databases  syntax  analysis  web  Data Visuali...  \n",
       "3518  retirement  Causality  career  history of the ...  \n",
       "3519  analytics  tableau software  Business Intellig...  \n",
       "3520  Angular  Mechanical Design  fluid mechanics  F...  \n",
       "3521  bigtable  bigquery  SQL  Google Cloud Platform...  \n",
       "\n",
       "[3522 rows x 7 columns]"
      ]
     },
     "execution_count": 8,
     "metadata": {},
     "output_type": "execute_result"
    }
   ],
   "source": [
    "df"
   ]
  },
  {
   "cell_type": "markdown",
   "id": "e3ea8623",
   "metadata": {},
   "source": [
    "# Dropping columns that are not necessary for NLP model training"
   ]
  },
  {
   "cell_type": "code",
   "execution_count": 9,
   "id": "0a5dc55e",
   "metadata": {},
   "outputs": [],
   "source": [
    "df.drop(['University','Difficulty Level','Course Rating','Course URL','Course Description'], axis=1,inplace=True)"
   ]
  },
  {
   "cell_type": "code",
   "execution_count": 10,
   "id": "efbfeb14",
   "metadata": {},
   "outputs": [
    {
     "data": {
      "text/html": [
       "<div>\n",
       "<style scoped>\n",
       "    .dataframe tbody tr th:only-of-type {\n",
       "        vertical-align: middle;\n",
       "    }\n",
       "\n",
       "    .dataframe tbody tr th {\n",
       "        vertical-align: top;\n",
       "    }\n",
       "\n",
       "    .dataframe thead th {\n",
       "        text-align: right;\n",
       "    }\n",
       "</style>\n",
       "<table border=\"1\" class=\"dataframe\">\n",
       "  <thead>\n",
       "    <tr style=\"text-align: right;\">\n",
       "      <th></th>\n",
       "      <th>Course Name</th>\n",
       "      <th>Skills</th>\n",
       "    </tr>\n",
       "  </thead>\n",
       "  <tbody>\n",
       "    <tr>\n",
       "      <th>0</th>\n",
       "      <td>Write A Feature Length Screenplay For Film Or ...</td>\n",
       "      <td>Drama  Comedy  peering  screenwriting  film  D...</td>\n",
       "    </tr>\n",
       "    <tr>\n",
       "      <th>1</th>\n",
       "      <td>Business Strategy: Business Model Canvas Analy...</td>\n",
       "      <td>Finance  business plan  persona (user experien...</td>\n",
       "    </tr>\n",
       "    <tr>\n",
       "      <th>2</th>\n",
       "      <td>Silicon Thin Film Solar Cells</td>\n",
       "      <td>chemistry  physics  Solar Energy  film  lambda...</td>\n",
       "    </tr>\n",
       "    <tr>\n",
       "      <th>3</th>\n",
       "      <td>Finance for Managers</td>\n",
       "      <td>accounts receivable  dupont analysis  analysis...</td>\n",
       "    </tr>\n",
       "    <tr>\n",
       "      <th>4</th>\n",
       "      <td>Retrieve Data using Single-Table SQL Queries</td>\n",
       "      <td>Data Analysis  select (sql)  database manageme...</td>\n",
       "    </tr>\n",
       "  </tbody>\n",
       "</table>\n",
       "</div>"
      ],
      "text/plain": [
       "                                         Course Name  \\\n",
       "0  Write A Feature Length Screenplay For Film Or ...   \n",
       "1  Business Strategy: Business Model Canvas Analy...   \n",
       "2                      Silicon Thin Film Solar Cells   \n",
       "3                               Finance for Managers   \n",
       "4       Retrieve Data using Single-Table SQL Queries   \n",
       "\n",
       "                                              Skills  \n",
       "0  Drama  Comedy  peering  screenwriting  film  D...  \n",
       "1  Finance  business plan  persona (user experien...  \n",
       "2  chemistry  physics  Solar Energy  film  lambda...  \n",
       "3  accounts receivable  dupont analysis  analysis...  \n",
       "4  Data Analysis  select (sql)  database manageme...  "
      ]
     },
     "execution_count": 10,
     "metadata": {},
     "output_type": "execute_result"
    }
   ],
   "source": [
    "df.head()"
   ]
  },
  {
   "cell_type": "markdown",
   "id": "40718f8d",
   "metadata": {},
   "source": [
    "# Declaring TF-IDF and removing stop words"
   ]
  },
  {
   "cell_type": "code",
   "execution_count": 11,
   "id": "7cb2ec4e",
   "metadata": {},
   "outputs": [],
   "source": [
    "from sklearn.feature_extraction.text import TfidfVectorizer\n",
    "\n",
    "\n",
    "tfv = TfidfVectorizer(min_df=3,  max_features=None, \n",
    "            strip_accents='unicode', analyzer='word',token_pattern=r'\\w{1,}',\n",
    "            ngram_range=(1, 3),\n",
    "            stop_words = 'english')\n",
    "\n",
    "# Filling NaNs with empty string\n",
    "df['cleaned'] = df['Skills'].fillna('')"
   ]
  },
  {
   "cell_type": "code",
   "execution_count": 12,
   "id": "b175a3f3",
   "metadata": {
    "scrolled": false
   },
   "outputs": [
    {
     "data": {
      "text/html": [
       "<div>\n",
       "<style scoped>\n",
       "    .dataframe tbody tr th:only-of-type {\n",
       "        vertical-align: middle;\n",
       "    }\n",
       "\n",
       "    .dataframe tbody tr th {\n",
       "        vertical-align: top;\n",
       "    }\n",
       "\n",
       "    .dataframe thead th {\n",
       "        text-align: right;\n",
       "    }\n",
       "</style>\n",
       "<table border=\"1\" class=\"dataframe\">\n",
       "  <thead>\n",
       "    <tr style=\"text-align: right;\">\n",
       "      <th></th>\n",
       "      <th>Course Name</th>\n",
       "      <th>Skills</th>\n",
       "      <th>cleaned</th>\n",
       "    </tr>\n",
       "  </thead>\n",
       "  <tbody>\n",
       "    <tr>\n",
       "      <th>0</th>\n",
       "      <td>Write A Feature Length Screenplay For Film Or ...</td>\n",
       "      <td>Drama  Comedy  peering  screenwriting  film  D...</td>\n",
       "      <td>Drama  Comedy  peering  screenwriting  film  D...</td>\n",
       "    </tr>\n",
       "    <tr>\n",
       "      <th>1</th>\n",
       "      <td>Business Strategy: Business Model Canvas Analy...</td>\n",
       "      <td>Finance  business plan  persona (user experien...</td>\n",
       "      <td>Finance  business plan  persona (user experien...</td>\n",
       "    </tr>\n",
       "    <tr>\n",
       "      <th>2</th>\n",
       "      <td>Silicon Thin Film Solar Cells</td>\n",
       "      <td>chemistry  physics  Solar Energy  film  lambda...</td>\n",
       "      <td>chemistry  physics  Solar Energy  film  lambda...</td>\n",
       "    </tr>\n",
       "    <tr>\n",
       "      <th>3</th>\n",
       "      <td>Finance for Managers</td>\n",
       "      <td>accounts receivable  dupont analysis  analysis...</td>\n",
       "      <td>accounts receivable  dupont analysis  analysis...</td>\n",
       "    </tr>\n",
       "    <tr>\n",
       "      <th>4</th>\n",
       "      <td>Retrieve Data using Single-Table SQL Queries</td>\n",
       "      <td>Data Analysis  select (sql)  database manageme...</td>\n",
       "      <td>Data Analysis  select (sql)  database manageme...</td>\n",
       "    </tr>\n",
       "  </tbody>\n",
       "</table>\n",
       "</div>"
      ],
      "text/plain": [
       "                                         Course Name  \\\n",
       "0  Write A Feature Length Screenplay For Film Or ...   \n",
       "1  Business Strategy: Business Model Canvas Analy...   \n",
       "2                      Silicon Thin Film Solar Cells   \n",
       "3                               Finance for Managers   \n",
       "4       Retrieve Data using Single-Table SQL Queries   \n",
       "\n",
       "                                              Skills  \\\n",
       "0  Drama  Comedy  peering  screenwriting  film  D...   \n",
       "1  Finance  business plan  persona (user experien...   \n",
       "2  chemistry  physics  Solar Energy  film  lambda...   \n",
       "3  accounts receivable  dupont analysis  analysis...   \n",
       "4  Data Analysis  select (sql)  database manageme...   \n",
       "\n",
       "                                             cleaned  \n",
       "0  Drama  Comedy  peering  screenwriting  film  D...  \n",
       "1  Finance  business plan  persona (user experien...  \n",
       "2  chemistry  physics  Solar Energy  film  lambda...  \n",
       "3  accounts receivable  dupont analysis  analysis...  \n",
       "4  Data Analysis  select (sql)  database manageme...  "
      ]
     },
     "execution_count": 12,
     "metadata": {},
     "output_type": "execute_result"
    }
   ],
   "source": [
    "df.head()"
   ]
  },
  {
   "cell_type": "markdown",
   "id": "915ca7ab",
   "metadata": {},
   "source": [
    "# Making sparse matrix of the dataset"
   ]
  },
  {
   "cell_type": "code",
   "execution_count": 13,
   "id": "9e20820e",
   "metadata": {},
   "outputs": [],
   "source": [
    "# Fitting the TF-IDF on the 'cleaned' text\n",
    "tfv_matrix = tfv.fit_transform(df['cleaned'])"
   ]
  },
  {
   "cell_type": "code",
   "execution_count": 14,
   "id": "e9777549",
   "metadata": {},
   "outputs": [
    {
     "data": {
      "text/plain": [
       "<3522x7499 sparse matrix of type '<class 'numpy.float64'>'\n",
       "\twith 105262 stored elements in Compressed Sparse Row format>"
      ]
     },
     "execution_count": 14,
     "metadata": {},
     "output_type": "execute_result"
    }
   ],
   "source": [
    "tfv_matrix"
   ]
  },
  {
   "cell_type": "code",
   "execution_count": 15,
   "id": "c21731ce",
   "metadata": {},
   "outputs": [
    {
     "data": {
      "text/plain": [
       "(3522, 7499)"
      ]
     },
     "execution_count": 15,
     "metadata": {},
     "output_type": "execute_result"
    }
   ],
   "source": [
    "tfv_matrix.shape"
   ]
  },
  {
   "cell_type": "code",
   "execution_count": 16,
   "id": "6a265880",
   "metadata": {},
   "outputs": [],
   "source": [
    "tm=tfv_matrix"
   ]
  },
  {
   "cell_type": "code",
   "execution_count": 17,
   "id": "b7831f4b",
   "metadata": {},
   "outputs": [],
   "source": [
    "import scipy.sparse"
   ]
  },
  {
   "cell_type": "code",
   "execution_count": 18,
   "id": "ac737285",
   "metadata": {},
   "outputs": [],
   "source": [
    "tfidfcheck=pd.DataFrame.sparse.from_spmatrix(tm)"
   ]
  },
  {
   "cell_type": "code",
   "execution_count": 19,
   "id": "d840c2e1",
   "metadata": {
    "scrolled": true
   },
   "outputs": [
    {
     "data": {
      "text/html": [
       "<div>\n",
       "<style scoped>\n",
       "    .dataframe tbody tr th:only-of-type {\n",
       "        vertical-align: middle;\n",
       "    }\n",
       "\n",
       "    .dataframe tbody tr th {\n",
       "        vertical-align: top;\n",
       "    }\n",
       "\n",
       "    .dataframe thead th {\n",
       "        text-align: right;\n",
       "    }\n",
       "</style>\n",
       "<table border=\"1\" class=\"dataframe\">\n",
       "  <thead>\n",
       "    <tr style=\"text-align: right;\">\n",
       "      <th></th>\n",
       "      <th>0</th>\n",
       "      <th>1</th>\n",
       "      <th>2</th>\n",
       "      <th>3</th>\n",
       "      <th>4</th>\n",
       "      <th>5</th>\n",
       "      <th>6</th>\n",
       "      <th>7</th>\n",
       "      <th>8</th>\n",
       "      <th>9</th>\n",
       "      <th>...</th>\n",
       "      <th>7489</th>\n",
       "      <th>7490</th>\n",
       "      <th>7491</th>\n",
       "      <th>7492</th>\n",
       "      <th>7493</th>\n",
       "      <th>7494</th>\n",
       "      <th>7495</th>\n",
       "      <th>7496</th>\n",
       "      <th>7497</th>\n",
       "      <th>7498</th>\n",
       "    </tr>\n",
       "  </thead>\n",
       "  <tbody>\n",
       "    <tr>\n",
       "      <th>0</th>\n",
       "      <td>0.0</td>\n",
       "      <td>0.0</td>\n",
       "      <td>0.0</td>\n",
       "      <td>0.0</td>\n",
       "      <td>0.0</td>\n",
       "      <td>0.0</td>\n",
       "      <td>0.0</td>\n",
       "      <td>0.000000</td>\n",
       "      <td>0.0</td>\n",
       "      <td>0.0</td>\n",
       "      <td>...</td>\n",
       "      <td>0.0</td>\n",
       "      <td>0.0</td>\n",
       "      <td>0.238635</td>\n",
       "      <td>0.0</td>\n",
       "      <td>0.0</td>\n",
       "      <td>0.0</td>\n",
       "      <td>0.0</td>\n",
       "      <td>0.0</td>\n",
       "      <td>0.0</td>\n",
       "      <td>0.0</td>\n",
       "    </tr>\n",
       "    <tr>\n",
       "      <th>1</th>\n",
       "      <td>0.0</td>\n",
       "      <td>0.0</td>\n",
       "      <td>0.0</td>\n",
       "      <td>0.0</td>\n",
       "      <td>0.0</td>\n",
       "      <td>0.0</td>\n",
       "      <td>0.0</td>\n",
       "      <td>0.000000</td>\n",
       "      <td>0.0</td>\n",
       "      <td>0.0</td>\n",
       "      <td>...</td>\n",
       "      <td>0.0</td>\n",
       "      <td>0.0</td>\n",
       "      <td>0.000000</td>\n",
       "      <td>0.0</td>\n",
       "      <td>0.0</td>\n",
       "      <td>0.0</td>\n",
       "      <td>0.0</td>\n",
       "      <td>0.0</td>\n",
       "      <td>0.0</td>\n",
       "      <td>0.0</td>\n",
       "    </tr>\n",
       "    <tr>\n",
       "      <th>2</th>\n",
       "      <td>0.0</td>\n",
       "      <td>0.0</td>\n",
       "      <td>0.0</td>\n",
       "      <td>0.0</td>\n",
       "      <td>0.0</td>\n",
       "      <td>0.0</td>\n",
       "      <td>0.0</td>\n",
       "      <td>0.000000</td>\n",
       "      <td>0.0</td>\n",
       "      <td>0.0</td>\n",
       "      <td>...</td>\n",
       "      <td>0.0</td>\n",
       "      <td>0.0</td>\n",
       "      <td>0.000000</td>\n",
       "      <td>0.0</td>\n",
       "      <td>0.0</td>\n",
       "      <td>0.0</td>\n",
       "      <td>0.0</td>\n",
       "      <td>0.0</td>\n",
       "      <td>0.0</td>\n",
       "      <td>0.0</td>\n",
       "    </tr>\n",
       "    <tr>\n",
       "      <th>3</th>\n",
       "      <td>0.0</td>\n",
       "      <td>0.0</td>\n",
       "      <td>0.0</td>\n",
       "      <td>0.0</td>\n",
       "      <td>0.0</td>\n",
       "      <td>0.0</td>\n",
       "      <td>0.0</td>\n",
       "      <td>0.000000</td>\n",
       "      <td>0.0</td>\n",
       "      <td>0.0</td>\n",
       "      <td>...</td>\n",
       "      <td>0.0</td>\n",
       "      <td>0.0</td>\n",
       "      <td>0.000000</td>\n",
       "      <td>0.0</td>\n",
       "      <td>0.0</td>\n",
       "      <td>0.0</td>\n",
       "      <td>0.0</td>\n",
       "      <td>0.0</td>\n",
       "      <td>0.0</td>\n",
       "      <td>0.0</td>\n",
       "    </tr>\n",
       "    <tr>\n",
       "      <th>4</th>\n",
       "      <td>0.0</td>\n",
       "      <td>0.0</td>\n",
       "      <td>0.0</td>\n",
       "      <td>0.0</td>\n",
       "      <td>0.0</td>\n",
       "      <td>0.0</td>\n",
       "      <td>0.0</td>\n",
       "      <td>0.000000</td>\n",
       "      <td>0.0</td>\n",
       "      <td>0.0</td>\n",
       "      <td>...</td>\n",
       "      <td>0.0</td>\n",
       "      <td>0.0</td>\n",
       "      <td>0.000000</td>\n",
       "      <td>0.0</td>\n",
       "      <td>0.0</td>\n",
       "      <td>0.0</td>\n",
       "      <td>0.0</td>\n",
       "      <td>0.0</td>\n",
       "      <td>0.0</td>\n",
       "      <td>0.0</td>\n",
       "    </tr>\n",
       "    <tr>\n",
       "      <th>...</th>\n",
       "      <td>...</td>\n",
       "      <td>...</td>\n",
       "      <td>...</td>\n",
       "      <td>...</td>\n",
       "      <td>...</td>\n",
       "      <td>...</td>\n",
       "      <td>...</td>\n",
       "      <td>...</td>\n",
       "      <td>...</td>\n",
       "      <td>...</td>\n",
       "      <td>...</td>\n",
       "      <td>...</td>\n",
       "      <td>...</td>\n",
       "      <td>...</td>\n",
       "      <td>...</td>\n",
       "      <td>...</td>\n",
       "      <td>...</td>\n",
       "      <td>...</td>\n",
       "      <td>...</td>\n",
       "      <td>...</td>\n",
       "      <td>...</td>\n",
       "    </tr>\n",
       "    <tr>\n",
       "      <th>3517</th>\n",
       "      <td>0.0</td>\n",
       "      <td>0.0</td>\n",
       "      <td>0.0</td>\n",
       "      <td>0.0</td>\n",
       "      <td>0.0</td>\n",
       "      <td>0.0</td>\n",
       "      <td>0.0</td>\n",
       "      <td>0.000000</td>\n",
       "      <td>0.0</td>\n",
       "      <td>0.0</td>\n",
       "      <td>...</td>\n",
       "      <td>0.0</td>\n",
       "      <td>0.0</td>\n",
       "      <td>0.000000</td>\n",
       "      <td>0.0</td>\n",
       "      <td>0.0</td>\n",
       "      <td>0.0</td>\n",
       "      <td>0.0</td>\n",
       "      <td>0.0</td>\n",
       "      <td>0.0</td>\n",
       "      <td>0.0</td>\n",
       "    </tr>\n",
       "    <tr>\n",
       "      <th>3518</th>\n",
       "      <td>0.0</td>\n",
       "      <td>0.0</td>\n",
       "      <td>0.0</td>\n",
       "      <td>0.0</td>\n",
       "      <td>0.0</td>\n",
       "      <td>0.0</td>\n",
       "      <td>0.0</td>\n",
       "      <td>0.000000</td>\n",
       "      <td>0.0</td>\n",
       "      <td>0.0</td>\n",
       "      <td>...</td>\n",
       "      <td>0.0</td>\n",
       "      <td>0.0</td>\n",
       "      <td>0.000000</td>\n",
       "      <td>0.0</td>\n",
       "      <td>0.0</td>\n",
       "      <td>0.0</td>\n",
       "      <td>0.0</td>\n",
       "      <td>0.0</td>\n",
       "      <td>0.0</td>\n",
       "      <td>0.0</td>\n",
       "    </tr>\n",
       "    <tr>\n",
       "      <th>3519</th>\n",
       "      <td>0.0</td>\n",
       "      <td>0.0</td>\n",
       "      <td>0.0</td>\n",
       "      <td>0.0</td>\n",
       "      <td>0.0</td>\n",
       "      <td>0.0</td>\n",
       "      <td>0.0</td>\n",
       "      <td>0.000000</td>\n",
       "      <td>0.0</td>\n",
       "      <td>0.0</td>\n",
       "      <td>...</td>\n",
       "      <td>0.0</td>\n",
       "      <td>0.0</td>\n",
       "      <td>0.000000</td>\n",
       "      <td>0.0</td>\n",
       "      <td>0.0</td>\n",
       "      <td>0.0</td>\n",
       "      <td>0.0</td>\n",
       "      <td>0.0</td>\n",
       "      <td>0.0</td>\n",
       "      <td>0.0</td>\n",
       "    </tr>\n",
       "    <tr>\n",
       "      <th>3520</th>\n",
       "      <td>0.0</td>\n",
       "      <td>0.0</td>\n",
       "      <td>0.0</td>\n",
       "      <td>0.0</td>\n",
       "      <td>0.0</td>\n",
       "      <td>0.0</td>\n",
       "      <td>0.0</td>\n",
       "      <td>0.168583</td>\n",
       "      <td>0.0</td>\n",
       "      <td>0.0</td>\n",
       "      <td>...</td>\n",
       "      <td>0.0</td>\n",
       "      <td>0.0</td>\n",
       "      <td>0.000000</td>\n",
       "      <td>0.0</td>\n",
       "      <td>0.0</td>\n",
       "      <td>0.0</td>\n",
       "      <td>0.0</td>\n",
       "      <td>0.0</td>\n",
       "      <td>0.0</td>\n",
       "      <td>0.0</td>\n",
       "    </tr>\n",
       "    <tr>\n",
       "      <th>3521</th>\n",
       "      <td>0.0</td>\n",
       "      <td>0.0</td>\n",
       "      <td>0.0</td>\n",
       "      <td>0.0</td>\n",
       "      <td>0.0</td>\n",
       "      <td>0.0</td>\n",
       "      <td>0.0</td>\n",
       "      <td>0.000000</td>\n",
       "      <td>0.0</td>\n",
       "      <td>0.0</td>\n",
       "      <td>...</td>\n",
       "      <td>0.0</td>\n",
       "      <td>0.0</td>\n",
       "      <td>0.000000</td>\n",
       "      <td>0.0</td>\n",
       "      <td>0.0</td>\n",
       "      <td>0.0</td>\n",
       "      <td>0.0</td>\n",
       "      <td>0.0</td>\n",
       "      <td>0.0</td>\n",
       "      <td>0.0</td>\n",
       "    </tr>\n",
       "  </tbody>\n",
       "</table>\n",
       "<p>3522 rows × 7499 columns</p>\n",
       "</div>"
      ],
      "text/plain": [
       "      0     1     2     3     4     5     6         7     8     9     ...  \\\n",
       "0      0.0   0.0   0.0   0.0   0.0   0.0   0.0  0.000000   0.0   0.0  ...   \n",
       "1      0.0   0.0   0.0   0.0   0.0   0.0   0.0  0.000000   0.0   0.0  ...   \n",
       "2      0.0   0.0   0.0   0.0   0.0   0.0   0.0  0.000000   0.0   0.0  ...   \n",
       "3      0.0   0.0   0.0   0.0   0.0   0.0   0.0  0.000000   0.0   0.0  ...   \n",
       "4      0.0   0.0   0.0   0.0   0.0   0.0   0.0  0.000000   0.0   0.0  ...   \n",
       "...    ...   ...   ...   ...   ...   ...   ...       ...   ...   ...  ...   \n",
       "3517   0.0   0.0   0.0   0.0   0.0   0.0   0.0  0.000000   0.0   0.0  ...   \n",
       "3518   0.0   0.0   0.0   0.0   0.0   0.0   0.0  0.000000   0.0   0.0  ...   \n",
       "3519   0.0   0.0   0.0   0.0   0.0   0.0   0.0  0.000000   0.0   0.0  ...   \n",
       "3520   0.0   0.0   0.0   0.0   0.0   0.0   0.0  0.168583   0.0   0.0  ...   \n",
       "3521   0.0   0.0   0.0   0.0   0.0   0.0   0.0  0.000000   0.0   0.0  ...   \n",
       "\n",
       "      7489  7490      7491  7492  7493  7494  7495  7496  7497  7498  \n",
       "0      0.0   0.0  0.238635   0.0   0.0   0.0   0.0   0.0   0.0   0.0  \n",
       "1      0.0   0.0  0.000000   0.0   0.0   0.0   0.0   0.0   0.0   0.0  \n",
       "2      0.0   0.0  0.000000   0.0   0.0   0.0   0.0   0.0   0.0   0.0  \n",
       "3      0.0   0.0  0.000000   0.0   0.0   0.0   0.0   0.0   0.0   0.0  \n",
       "4      0.0   0.0  0.000000   0.0   0.0   0.0   0.0   0.0   0.0   0.0  \n",
       "...    ...   ...       ...   ...   ...   ...   ...   ...   ...   ...  \n",
       "3517   0.0   0.0  0.000000   0.0   0.0   0.0   0.0   0.0   0.0   0.0  \n",
       "3518   0.0   0.0  0.000000   0.0   0.0   0.0   0.0   0.0   0.0   0.0  \n",
       "3519   0.0   0.0  0.000000   0.0   0.0   0.0   0.0   0.0   0.0   0.0  \n",
       "3520   0.0   0.0  0.000000   0.0   0.0   0.0   0.0   0.0   0.0   0.0  \n",
       "3521   0.0   0.0  0.000000   0.0   0.0   0.0   0.0   0.0   0.0   0.0  \n",
       "\n",
       "[3522 rows x 7499 columns]"
      ]
     },
     "execution_count": 19,
     "metadata": {},
     "output_type": "execute_result"
    }
   ],
   "source": [
    "tfidfcheck"
   ]
  },
  {
   "cell_type": "markdown",
   "id": "19396f93",
   "metadata": {},
   "source": [
    "# making sigmoid kernel"
   ]
  },
  {
   "cell_type": "markdown",
   "id": "bcd119c1",
   "metadata": {},
   "source": [
    "We make a sigmoid kernel which stores the similarity score between each each row of cleaned column with every other rows these similarity scores will tell us how much the given row is related to other rows in the dataset and by this we can find similar courses for recommendations. The values of sigmoid kernel is between 0 and 1 since it uses sigmoid function."
   ]
  },
  {
   "cell_type": "code",
   "execution_count": 20,
   "id": "6f407264",
   "metadata": {},
   "outputs": [],
   "source": [
    "from sklearn.metrics.pairwise import sigmoid_kernel\n",
    "\n",
    "# Compute the sigmoid kernel\n",
    "sig = sigmoid_kernel(tfv_matrix, tfv_matrix)"
   ]
  },
  {
   "cell_type": "code",
   "execution_count": 21,
   "id": "15e02556",
   "metadata": {},
   "outputs": [
    {
     "data": {
      "text/plain": [
       "(3522, 3522)"
      ]
     },
     "execution_count": 21,
     "metadata": {},
     "output_type": "execute_result"
    }
   ],
   "source": [
    "sig.shape"
   ]
  },
  {
   "cell_type": "code",
   "execution_count": 22,
   "id": "294ab91f",
   "metadata": {},
   "outputs": [
    {
     "data": {
      "text/plain": [
       "array([[0.76165015, 0.76159416, 0.761596  , ..., 0.76159416, 0.76159416,\n",
       "        0.76159416],\n",
       "       [0.76159416, 0.76165015, 0.76159416, ..., 0.76159879, 0.76159416,\n",
       "        0.76159448],\n",
       "       [0.761596  , 0.76159416, 0.76165015, ..., 0.76159416, 0.76160211,\n",
       "        0.76159431],\n",
       "       ...,\n",
       "       [0.76159416, 0.76159879, 0.76159416, ..., 0.76165015, 0.76159416,\n",
       "        0.76159494],\n",
       "       [0.76159416, 0.76159416, 0.76160211, ..., 0.76159416, 0.76165015,\n",
       "        0.76159431],\n",
       "       [0.76159416, 0.76159448, 0.76159431, ..., 0.76159494, 0.76159431,\n",
       "        0.76165015]])"
      ]
     },
     "execution_count": 22,
     "metadata": {},
     "output_type": "execute_result"
    }
   ],
   "source": [
    "sig"
   ]
  },
  {
   "cell_type": "code",
   "execution_count": 23,
   "id": "756e2257",
   "metadata": {},
   "outputs": [
    {
     "data": {
      "text/plain": [
       "array([0.76165015, 0.76159416, 0.761596  , ..., 0.76159416, 0.76159416,\n",
       "       0.76159416])"
      ]
     },
     "execution_count": 23,
     "metadata": {},
     "output_type": "execute_result"
    }
   ],
   "source": [
    "sig[0]"
   ]
  },
  {
   "cell_type": "code",
   "execution_count": 24,
   "id": "7c1d9f27",
   "metadata": {},
   "outputs": [],
   "source": [
    "# Reverse mapping of indices and titles\n",
    "indices = pd.Series(df.index, index=df['Course Name']).drop_duplicates()"
   ]
  },
  {
   "cell_type": "code",
   "execution_count": 25,
   "id": "6820f5b6",
   "metadata": {},
   "outputs": [
    {
     "data": {
      "text/plain": [
       "Course Name\n",
       "Write A Feature Length Screenplay For Film Or Television                 0\n",
       "Business Strategy: Business Model Canvas Analysis with Miro              1\n",
       "Silicon Thin Film Solar Cells                                            2\n",
       "Finance for Managers                                                     3\n",
       "Retrieve Data using Single-Table SQL Queries                             4\n",
       "                                                                      ... \n",
       "Capstone: Retrieving, Processing, and Visualizing Data with Python    3517\n",
       "Patrick Henry: Forgotten Founder                                      3518\n",
       "Business intelligence and data analytics: Generate insights           3519\n",
       "Rigid Body Dynamics                                                   3520\n",
       "Architecting with Google Kubernetes Engine: Production                3521\n",
       "Length: 3522, dtype: int64"
      ]
     },
     "execution_count": 25,
     "metadata": {},
     "output_type": "execute_result"
    }
   ],
   "source": [
    "indices"
   ]
  },
  {
   "cell_type": "code",
   "execution_count": 26,
   "id": "fdb73a38",
   "metadata": {},
   "outputs": [
    {
     "data": {
      "text/plain": [
       "0"
      ]
     },
     "execution_count": 26,
     "metadata": {},
     "output_type": "execute_result"
    }
   ],
   "source": [
    "indices['Write A Feature Length Screenplay For Film Or Television']"
   ]
  },
  {
   "cell_type": "code",
   "execution_count": 27,
   "id": "45576beb",
   "metadata": {},
   "outputs": [
    {
     "data": {
      "text/plain": [
       "array([0.76165015, 0.76159416, 0.761596  , ..., 0.76159416, 0.76159416,\n",
       "       0.76159416])"
      ]
     },
     "execution_count": 27,
     "metadata": {},
     "output_type": "execute_result"
    }
   ],
   "source": [
    "sig[0]"
   ]
  },
  {
   "cell_type": "code",
   "execution_count": 28,
   "id": "0e09acd4",
   "metadata": {
    "scrolled": true
   },
   "outputs": [
    {
     "data": {
      "text/plain": [
       "[(0, 0.7616501543143597),\n",
       " (1, 0.7615941559557649),\n",
       " (2, 0.7615959985478333),\n",
       " (3, 0.7615941559557649),\n",
       " (4, 0.7615941559557649),\n",
       " (5, 0.7615941559557649),\n",
       " (6, 0.7615959721847939),\n",
       " (7, 0.7615941559557649),\n",
       " (8, 0.7615965276828943),\n",
       " (9, 0.7615941559557649),\n",
       " (10, 0.7615941559557649),\n",
       " (11, 0.7616000174979918),\n",
       " (12, 0.7615941559557649),\n",
       " (13, 0.7615941559557649),\n",
       " (14, 0.7615941559557649),\n",
       " (15, 0.7615941559557649),\n",
       " (16, 0.7615941559557649),\n",
       " (17, 0.7615941559557649),\n",
       " (18, 0.7615941559557649),\n",
       " (19, 0.7615941559557649),\n",
       " (20, 0.7615941559557649),\n",
       " (21, 0.7615941559557649),\n",
       " (22, 0.7615941559557649),\n",
       " (23, 0.7615941559557649),\n",
       " (24, 0.7615941559557649)]"
      ]
     },
     "execution_count": 28,
     "metadata": {},
     "output_type": "execute_result"
    }
   ],
   "source": [
    "list(enumerate(sig[indices['Write A Feature Length Screenplay For Film Or Television']]))[0:25]\n",
    "#seeing 25 elements of the list"
   ]
  },
  {
   "cell_type": "code",
   "execution_count": 29,
   "id": "7cca79a4",
   "metadata": {
    "scrolled": true
   },
   "outputs": [
    {
     "data": {
      "text/plain": [
       "[(0, 0.7616501543143597),\n",
       " (1451, 0.7616211598384217),\n",
       " (3462, 0.76161949817074),\n",
       " (1481, 0.7616191862008939),\n",
       " (2424, 0.7616172565927477),\n",
       " (3005, 0.7616167887484515),\n",
       " (2011, 0.761615390906486),\n",
       " (1213, 0.7616153234413898),\n",
       " (535, 0.761615321659031),\n",
       " (339, 0.7616152010462668),\n",
       " (2536, 0.7616148552189045),\n",
       " (1629, 0.7616146544846754),\n",
       " (1655, 0.7616144107848734),\n",
       " (3255, 0.761612691822956),\n",
       " (1604, 0.7616120955395769),\n",
       " (1664, 0.7616115058424158),\n",
       " (150, 0.7616114696589187),\n",
       " (149, 0.7616109344121397),\n",
       " (2445, 0.7616108788319054),\n",
       " (2698, 0.7616108467759751),\n",
       " (3481, 0.7616107421294825),\n",
       " (1470, 0.7616106639002127),\n",
       " (1823, 0.7616104565237118),\n",
       " (545, 0.7616103898847859),\n",
       " (2551, 0.7616102116397325)]"
      ]
     },
     "execution_count": 29,
     "metadata": {},
     "output_type": "execute_result"
    }
   ],
   "source": [
    "sorted(list(enumerate(sig[indices['Write A Feature Length Screenplay For Film Or Television']])), key=lambda x: x[1], reverse=True)[0:25]\n",
    "#seeing 25 elements of the list"
   ]
  },
  {
   "cell_type": "markdown",
   "id": "98ee8b19",
   "metadata": {},
   "source": [
    "# Defining function that returns the recommendations"
   ]
  },
  {
   "cell_type": "code",
   "execution_count": 30,
   "id": "0bf8896b",
   "metadata": {},
   "outputs": [],
   "source": [
    "def give_rec(title, sig=sig):\n",
    "    # Get the index corresponding to given course\n",
    "    idx = indices[title]\n",
    "\n",
    "    # Get the pairwsie similarity scores with given course with every available course in the data set\n",
    "    sig_scores = list(enumerate(sig[idx]))\n",
    "\n",
    "    # Sort the recommended courses\n",
    "    sig_scores = sorted(sig_scores, key=lambda x: x[1], reverse=True)\n",
    "\n",
    "    # Scores of the 10 most similar courses\n",
    "    sig_scores = sig_scores[1:11]\n",
    "\n",
    "    # get courses indices for top 10 recommended courses\n",
    "    course_indices = [i[0] for i in sig_scores]\n",
    "\n",
    "    # Top 10 most similar courses\n",
    "    return df_org.iloc[course_indices]"
   ]
  },
  {
   "cell_type": "markdown",
   "id": "b36699dd",
   "metadata": {},
   "source": [
    "# finding a course using keywords"
   ]
  },
  {
   "cell_type": "markdown",
   "id": "d9cddc75",
   "metadata": {},
   "source": [
    "we find list of similar courses using keywords so that user can find similar courses even without knowing name of the courses available in the data set. we use get_close_matches function to get the closest match of the keyword from difflib library then we take the most closest match and then recommend courses using that course. "
   ]
  },
  {
   "cell_type": "code",
   "execution_count": 31,
   "id": "4dbd8ffd",
   "metadata": {},
   "outputs": [],
   "source": [
    "import difflib"
   ]
  },
  {
   "cell_type": "code",
   "execution_count": 32,
   "id": "c44fe72c",
   "metadata": {},
   "outputs": [],
   "source": [
    "namelist=df['Course Name'].tolist()"
   ]
  },
  {
   "cell_type": "code",
   "execution_count": 33,
   "id": "b103bb7e",
   "metadata": {},
   "outputs": [
    {
     "data": {
      "text/plain": [
       "['Write A Feature Length Screenplay For Film Or Television',\n",
       " 'Business Strategy: Business Model Canvas Analysis with Miro',\n",
       " 'Silicon Thin Film Solar Cells',\n",
       " 'Finance for Managers',\n",
       " 'Retrieve Data using Single-Table SQL Queries',\n",
       " 'Building Test Automation Framework using Selenium and TestNG',\n",
       " 'Doing Business in China Capstone',\n",
       " 'Programming Languages, Part A',\n",
       " 'The Roles and Responsibilities of Nonprofit Boards of Directors within the Governance Process',\n",
       " 'Business Russian Communication. Part 3',\n",
       " 'Agile Projects:  Developing Tasks with Taiga',\n",
       " 'Esports Management Capstone Project',\n",
       " 'Hacking and Patching',\n",
       " 'Business Statistics and Analysis Capstone',\n",
       " 'Grab Data Fast with Vertical and Horizontal LOOKUP',\n",
       " 'Global Health: An Interdisciplinary Overview',\n",
       " 'Python Programming Essentials',\n",
       " 'Creating Dashboards and Storytelling with Tableau',\n",
       " 'Parallel programming',\n",
       " 'Recommendation Systems with TensorFlow on GCP',\n",
       " 'The Changing Arctic',\n",
       " 'COVID-19 - A clinical update',\n",
       " 'How to Create Text Effects in GIMP',\n",
       " 'Preparing for the Google Cloud Professional Data Engineer Exam',\n",
       " 'Multiple Regression Analysis in Public Health']"
      ]
     },
     "execution_count": 33,
     "metadata": {},
     "output_type": "execute_result"
    }
   ],
   "source": [
    "namelist[0:25]\n",
    "#seeing 25 elements of the list"
   ]
  },
  {
   "cell_type": "code",
   "execution_count": 34,
   "id": "e7145c58",
   "metadata": {},
   "outputs": [],
   "source": [
    "word='voices of social change'"
   ]
  },
  {
   "cell_type": "code",
   "execution_count": 35,
   "id": "6dadd279",
   "metadata": {},
   "outputs": [
    {
     "data": {
      "text/plain": [
       "['Voices of Social Change']"
      ]
     },
     "execution_count": 35,
     "metadata": {},
     "output_type": "execute_result"
    }
   ],
   "source": [
    "simlist=difflib.get_close_matches(word, namelist)\n",
    "simlist"
   ]
  },
  {
   "cell_type": "markdown",
   "id": "e8f16f44",
   "metadata": {},
   "source": [
    "# Handling errors and no output senarioes"
   ]
  },
  {
   "cell_type": "code",
   "execution_count": 36,
   "id": "6c315cfa",
   "metadata": {},
   "outputs": [],
   "source": [
    "try: \n",
    "        findf=give_rec(simlist[0])\n",
    "        findf=findf.reset_index(drop=True)\n",
    "except:\n",
    "        findf = pd.DataFrame()"
   ]
  },
  {
   "cell_type": "code",
   "execution_count": 37,
   "id": "9c217661",
   "metadata": {},
   "outputs": [
    {
     "data": {
      "text/html": [
       "<div>\n",
       "<style scoped>\n",
       "    .dataframe tbody tr th:only-of-type {\n",
       "        vertical-align: middle;\n",
       "    }\n",
       "\n",
       "    .dataframe tbody tr th {\n",
       "        vertical-align: top;\n",
       "    }\n",
       "\n",
       "    .dataframe thead th {\n",
       "        text-align: right;\n",
       "    }\n",
       "</style>\n",
       "<table border=\"1\" class=\"dataframe\">\n",
       "  <thead>\n",
       "    <tr style=\"text-align: right;\">\n",
       "      <th></th>\n",
       "      <th>Course Name</th>\n",
       "      <th>University</th>\n",
       "      <th>Difficulty Level</th>\n",
       "      <th>Course Rating</th>\n",
       "      <th>Course URL</th>\n",
       "      <th>Course Description</th>\n",
       "      <th>Skills</th>\n",
       "    </tr>\n",
       "  </thead>\n",
       "  <tbody>\n",
       "    <tr>\n",
       "      <th>0</th>\n",
       "      <td>Career Options: Exploring a New Career</td>\n",
       "      <td>University System of Georgia</td>\n",
       "      <td>Intermediate</td>\n",
       "      <td>3.8</td>\n",
       "      <td>https://www.coursera.org/learn/career-exploration</td>\n",
       "      <td>This course is for you if you are interested i...</td>\n",
       "      <td>career  college  salary  Planning  relative ch...</td>\n",
       "    </tr>\n",
       "    <tr>\n",
       "      <th>1</th>\n",
       "      <td>Think Again II: How to Reason Deductively</td>\n",
       "      <td>Duke University</td>\n",
       "      <td>Intermediate</td>\n",
       "      <td>4.3</td>\n",
       "      <td>https://www.coursera.org/learn/deductive-reaso...</td>\n",
       "      <td>Deductive arguments are supposed to be valid i...</td>\n",
       "      <td>personal development  thought  Critical Thinki...</td>\n",
       "    </tr>\n",
       "    <tr>\n",
       "      <th>2</th>\n",
       "      <td>Thrive in Trying Times Teach-Out</td>\n",
       "      <td>University of Michigan</td>\n",
       "      <td>Beginner</td>\n",
       "      <td>4.3</td>\n",
       "      <td>https://www.coursera.org/learn/thrive-in-tryin...</td>\n",
       "      <td>In times of crisis, like the coronavirus and C...</td>\n",
       "      <td>experience  bodymind  thriving  Average  stres...</td>\n",
       "    </tr>\n",
       "    <tr>\n",
       "      <th>3</th>\n",
       "      <td>Presentation skills: Designing Presentation Sl...</td>\n",
       "      <td>National Research Tomsk State University</td>\n",
       "      <td>Advanced</td>\n",
       "      <td>4.6</td>\n",
       "      <td>https://www.coursera.org/learn/slides</td>\n",
       "      <td>Powerpoint slides are like children: no matter...</td>\n",
       "      <td>relative change and difference  presentation  ...</td>\n",
       "    </tr>\n",
       "    <tr>\n",
       "      <th>4</th>\n",
       "      <td>Finding Purpose and Meaning In Life: Living fo...</td>\n",
       "      <td>University of Michigan</td>\n",
       "      <td>Beginner</td>\n",
       "      <td>4.6</td>\n",
       "      <td>https://www.coursera.org/learn/finding-purpose...</td>\n",
       "      <td>Welcome to Finding Purpose and Meaning in Life...</td>\n",
       "      <td>relative change and difference  happiness  mea...</td>\n",
       "    </tr>\n",
       "    <tr>\n",
       "      <th>5</th>\n",
       "      <td>Achieving Your Optimal Performance</td>\n",
       "      <td>University of California San Diego</td>\n",
       "      <td>Advanced</td>\n",
       "      <td>4.6</td>\n",
       "      <td>https://www.coursera.org/learn/achieving-your-...</td>\n",
       "      <td>In a very competitive workplace, outstanding p...</td>\n",
       "      <td>behavior  performance  reflective learning  pr...</td>\n",
       "    </tr>\n",
       "    <tr>\n",
       "      <th>6</th>\n",
       "      <td>Science of Training Young Athletes Part 2</td>\n",
       "      <td>University of Florida</td>\n",
       "      <td>Intermediate</td>\n",
       "      <td>5</td>\n",
       "      <td>https://www.coursera.org/learn/science-of-trai...</td>\n",
       "      <td>In this course you will learn how to design th...</td>\n",
       "      <td>sports  Training  heart rate  performance  ord...</td>\n",
       "    </tr>\n",
       "    <tr>\n",
       "      <th>7</th>\n",
       "      <td>Tinkering Fundamentals: Circuits</td>\n",
       "      <td>Exploratorium</td>\n",
       "      <td>Beginner</td>\n",
       "      <td>4.7</td>\n",
       "      <td>https://www.coursera.org/learn/tinkering-circuits</td>\n",
       "      <td>The Tinkering Fundamentals course will offer e...</td>\n",
       "      <td>phenomenon  Carpentry  Strategy  interest  fac...</td>\n",
       "    </tr>\n",
       "    <tr>\n",
       "      <th>8</th>\n",
       "      <td>Engaging in Persuasive and Credible Communication</td>\n",
       "      <td>National University of Singapore</td>\n",
       "      <td>Advanced</td>\n",
       "      <td>4.5</td>\n",
       "      <td>https://www.coursera.org/learn/persuasive-comm...</td>\n",
       "      <td>In \"Engaging in Persuasive and Credible Commun...</td>\n",
       "      <td>social work  persuasive writing  persuasion  W...</td>\n",
       "    </tr>\n",
       "    <tr>\n",
       "      <th>9</th>\n",
       "      <td>The Arts and Science of Relationships: Underst...</td>\n",
       "      <td>University of Toronto</td>\n",
       "      <td>Conversant</td>\n",
       "      <td>4.3</td>\n",
       "      <td>https://www.coursera.org/learn/human-needs</td>\n",
       "      <td>This course provides an introduction to: 1. Ba...</td>\n",
       "      <td>counseling  Leadership and Management  sex  pe...</td>\n",
       "    </tr>\n",
       "  </tbody>\n",
       "</table>\n",
       "</div>"
      ],
      "text/plain": [
       "                                         Course Name  \\\n",
       "0             Career Options: Exploring a New Career   \n",
       "1          Think Again II: How to Reason Deductively   \n",
       "2                   Thrive in Trying Times Teach-Out   \n",
       "3  Presentation skills: Designing Presentation Sl...   \n",
       "4  Finding Purpose and Meaning In Life: Living fo...   \n",
       "5                 Achieving Your Optimal Performance   \n",
       "6          Science of Training Young Athletes Part 2   \n",
       "7                   Tinkering Fundamentals: Circuits   \n",
       "8  Engaging in Persuasive and Credible Communication   \n",
       "9  The Arts and Science of Relationships: Underst...   \n",
       "\n",
       "                                 University Difficulty Level Course Rating  \\\n",
       "0              University System of Georgia     Intermediate           3.8   \n",
       "1                           Duke University     Intermediate           4.3   \n",
       "2                    University of Michigan         Beginner           4.3   \n",
       "3  National Research Tomsk State University         Advanced           4.6   \n",
       "4                    University of Michigan         Beginner           4.6   \n",
       "5        University of California San Diego         Advanced           4.6   \n",
       "6                     University of Florida     Intermediate             5   \n",
       "7                             Exploratorium         Beginner           4.7   \n",
       "8          National University of Singapore         Advanced           4.5   \n",
       "9                     University of Toronto       Conversant           4.3   \n",
       "\n",
       "                                          Course URL  \\\n",
       "0  https://www.coursera.org/learn/career-exploration   \n",
       "1  https://www.coursera.org/learn/deductive-reaso...   \n",
       "2  https://www.coursera.org/learn/thrive-in-tryin...   \n",
       "3              https://www.coursera.org/learn/slides   \n",
       "4  https://www.coursera.org/learn/finding-purpose...   \n",
       "5  https://www.coursera.org/learn/achieving-your-...   \n",
       "6  https://www.coursera.org/learn/science-of-trai...   \n",
       "7  https://www.coursera.org/learn/tinkering-circuits   \n",
       "8  https://www.coursera.org/learn/persuasive-comm...   \n",
       "9         https://www.coursera.org/learn/human-needs   \n",
       "\n",
       "                                  Course Description  \\\n",
       "0  This course is for you if you are interested i...   \n",
       "1  Deductive arguments are supposed to be valid i...   \n",
       "2  In times of crisis, like the coronavirus and C...   \n",
       "3  Powerpoint slides are like children: no matter...   \n",
       "4  Welcome to Finding Purpose and Meaning in Life...   \n",
       "5  In a very competitive workplace, outstanding p...   \n",
       "6  In this course you will learn how to design th...   \n",
       "7  The Tinkering Fundamentals course will offer e...   \n",
       "8  In \"Engaging in Persuasive and Credible Commun...   \n",
       "9  This course provides an introduction to: 1. Ba...   \n",
       "\n",
       "                                              Skills  \n",
       "0  career  college  salary  Planning  relative ch...  \n",
       "1  personal development  thought  Critical Thinki...  \n",
       "2  experience  bodymind  thriving  Average  stres...  \n",
       "3  relative change and difference  presentation  ...  \n",
       "4  relative change and difference  happiness  mea...  \n",
       "5  behavior  performance  reflective learning  pr...  \n",
       "6  sports  Training  heart rate  performance  ord...  \n",
       "7  phenomenon  Carpentry  Strategy  interest  fac...  \n",
       "8  social work  persuasive writing  persuasion  W...  \n",
       "9  counseling  Leadership and Management  sex  pe...  "
      ]
     },
     "execution_count": 37,
     "metadata": {},
     "output_type": "execute_result"
    }
   ],
   "source": [
    "findf"
   ]
  },
  {
   "cell_type": "code",
   "execution_count": 38,
   "id": "687d6eca",
   "metadata": {},
   "outputs": [],
   "source": [
    "if findf.empty:\n",
    "        ms='Sorry! we did not find any matching courses, Try adding more keywords in your search.'\n",
    "        ht=' '\n",
    "else:\n",
    "        ht='done'\n",
    "        ms='Here are some recommendations :'"
   ]
  },
  {
   "cell_type": "code",
   "execution_count": 39,
   "id": "3c301438",
   "metadata": {},
   "outputs": [
    {
     "data": {
      "text/plain": [
       "'Here are some recommendations :'"
      ]
     },
     "execution_count": 39,
     "metadata": {},
     "output_type": "execute_result"
    }
   ],
   "source": [
    "ms"
   ]
  },
  {
   "cell_type": "code",
   "execution_count": 40,
   "id": "275743d5",
   "metadata": {},
   "outputs": [
    {
     "data": {
      "text/plain": [
       "'done'"
      ]
     },
     "execution_count": 40,
     "metadata": {},
     "output_type": "execute_result"
    }
   ],
   "source": [
    "ht"
   ]
  },
  {
   "cell_type": "code",
   "execution_count": null,
   "id": "a02bd2b5",
   "metadata": {},
   "outputs": [],
   "source": []
  }
 ],
 "metadata": {
  "kernelspec": {
   "display_name": "Python 3",
   "language": "python",
   "name": "python3"
  },
  "language_info": {
   "codemirror_mode": {
    "name": "ipython",
    "version": 3
   },
   "file_extension": ".py",
   "mimetype": "text/x-python",
   "name": "python",
   "nbconvert_exporter": "python",
   "pygments_lexer": "ipython3",
   "version": "3.9.7"
  }
 },
 "nbformat": 4,
 "nbformat_minor": 5
}
